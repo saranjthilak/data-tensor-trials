{
 "cells": [
  {
   "cell_type": "markdown",
   "id": "a4597a78",
   "metadata": {},
   "source": [
    "## The Tensorflow Trials"
   ]
  },
  {
   "cell_type": "markdown",
   "id": "3b5ac670",
   "metadata": {},
   "source": [
    "For much of the past week, you've been using tensors with your Deep Learning models. Over the course of today's challenges, you'll be manipulating tensors extensively and working with some unconventional model architectures. \n",
    "\n",
    "\n",
    "In this warm up, you'll be introduced to some new methods. \n",
    "\n",
    "All the methods here are going to make tackling challenges later in the day 100x easier, so if you do get stuck later on, make sure you come back here to see how you achieved the right answers. "
   ]
  },
  {
   "cell_type": "code",
   "execution_count": 1,
   "id": "f956fbd7",
   "metadata": {
    "execution": {
     "iopub.execute_input": "2025-05-23T09:32:03.062833Z",
     "iopub.status.busy": "2025-05-23T09:32:03.061198Z",
     "iopub.status.idle": "2025-05-23T09:32:10.474825Z",
     "shell.execute_reply": "2025-05-23T09:32:10.473723Z",
     "shell.execute_reply.started": "2025-05-23T09:32:03.062801Z"
    }
   },
   "outputs": [
    {
     "name": "stderr",
     "output_type": "stream",
     "text": [
      "2025-05-23 11:32:03.910317: I external/local_xla/xla/tsl/cuda/cudart_stub.cc:32] Could not find cuda drivers on your machine, GPU will not be used.\n",
      "2025-05-23 11:32:04.063771: I external/local_xla/xla/tsl/cuda/cudart_stub.cc:32] Could not find cuda drivers on your machine, GPU will not be used.\n",
      "2025-05-23 11:32:04.199867: E external/local_xla/xla/stream_executor/cuda/cuda_fft.cc:467] Unable to register cuFFT factory: Attempting to register factory for plugin cuFFT when one has already been registered\n",
      "WARNING: All log messages before absl::InitializeLog() is called are written to STDERR\n",
      "E0000 00:00:1747992724.313590    1082 cuda_dnn.cc:8579] Unable to register cuDNN factory: Attempting to register factory for plugin cuDNN when one has already been registered\n",
      "E0000 00:00:1747992724.349639    1082 cuda_blas.cc:1407] Unable to register cuBLAS factory: Attempting to register factory for plugin cuBLAS when one has already been registered\n",
      "W0000 00:00:1747992724.619167    1082 computation_placer.cc:177] computation placer already registered. Please check linkage and avoid linking the same target more than once.\n",
      "W0000 00:00:1747992724.619193    1082 computation_placer.cc:177] computation placer already registered. Please check linkage and avoid linking the same target more than once.\n",
      "W0000 00:00:1747992724.619195    1082 computation_placer.cc:177] computation placer already registered. Please check linkage and avoid linking the same target more than once.\n",
      "W0000 00:00:1747992724.619197    1082 computation_placer.cc:177] computation placer already registered. Please check linkage and avoid linking the same target more than once.\n",
      "2025-05-23 11:32:04.652198: I tensorflow/core/platform/cpu_feature_guard.cc:210] This TensorFlow binary is optimized to use available CPU instructions in performance-critical operations.\n",
      "To enable the following instructions: AVX2 FMA, in other operations, rebuild TensorFlow with the appropriate compiler flags.\n"
     ]
    }
   ],
   "source": [
    "import tensorflow as tf"
   ]
  },
  {
   "cell_type": "markdown",
   "id": "a5eb51a8",
   "metadata": {},
   "source": [
    "A) Use `tf.ones` to create a tensor `a` filled with ones of shape (3,3)."
   ]
  },
  {
   "cell_type": "code",
   "execution_count": 2,
   "id": "a2207ddf",
   "metadata": {
    "execution": {
     "iopub.execute_input": "2025-05-23T09:34:04.377376Z",
     "iopub.status.busy": "2025-05-23T09:34:04.376445Z",
     "iopub.status.idle": "2025-05-23T09:34:04.933956Z",
     "shell.execute_reply": "2025-05-23T09:34:04.932301Z",
     "shell.execute_reply.started": "2025-05-23T09:34:04.377351Z"
    }
   },
   "outputs": [
    {
     "name": "stdout",
     "output_type": "stream",
     "text": [
      "tf.Tensor(\n",
      "[[1. 1. 1.]\n",
      " [1. 1. 1.]\n",
      " [1. 1. 1.]], shape=(3, 3), dtype=float32)\n"
     ]
    },
    {
     "name": "stderr",
     "output_type": "stream",
     "text": [
      "E0000 00:00:1747992844.900380    1082 cuda_executor.cc:1228] INTERNAL: CUDA Runtime error: Failed call to cudaGetRuntimeVersion: Error loading CUDA libraries. GPU will not be used.: Error loading CUDA libraries. GPU will not be used.\n",
      "W0000 00:00:1747992844.900998    1082 gpu_device.cc:2341] Cannot dlopen some GPU libraries. Please make sure the missing libraries mentioned above are installed properly if you would like to use GPU. Follow the guide at https://www.tensorflow.org/install/gpu for how to download and setup the required libraries for your platform.\n",
      "Skipping registering GPU devices...\n"
     ]
    }
   ],
   "source": [
    "a = tf.ones(shape=(3, 3))\n",
    "print(a)"
   ]
  },
  {
   "cell_type": "markdown",
   "id": "6adda225",
   "metadata": {},
   "source": [
    "B) Use tf.expand_dims to make `a` an object of shape (1,3,3) called `b`."
   ]
  },
  {
   "cell_type": "code",
   "execution_count": 4,
   "id": "17b29067",
   "metadata": {
    "execution": {
     "iopub.execute_input": "2025-05-23T09:36:21.582755Z",
     "iopub.status.busy": "2025-05-23T09:36:21.582089Z",
     "iopub.status.idle": "2025-05-23T09:36:21.588294Z",
     "shell.execute_reply": "2025-05-23T09:36:21.587247Z",
     "shell.execute_reply.started": "2025-05-23T09:36:21.582732Z"
    }
   },
   "outputs": [
    {
     "name": "stdout",
     "output_type": "stream",
     "text": [
      "(1, 3, 3)\n",
      "tf.Tensor(\n",
      "[[[1. 1. 1.]\n",
      "  [1. 1. 1.]\n",
      "  [1. 1. 1.]]], shape=(1, 3, 3), dtype=float32)\n"
     ]
    }
   ],
   "source": [
    "b = tf.expand_dims(a, axis=0)  # Adds a new dimension at the front\n",
    "\n",
    "print(b.shape)  # Should print: (1, 3, 3)\n",
    "print(b)\n"
   ]
  },
  {
   "cell_type": "markdown",
   "id": "9a1c9c39",
   "metadata": {},
   "source": [
    "C) Create a tensor `c` filled with zeroes of size (9,1)"
   ]
  },
  {
   "cell_type": "code",
   "execution_count": 7,
   "id": "b30a1eb7",
   "metadata": {
    "execution": {
     "iopub.execute_input": "2025-05-23T09:37:53.054374Z",
     "iopub.status.busy": "2025-05-23T09:37:53.053207Z",
     "iopub.status.idle": "2025-05-23T09:37:53.061521Z",
     "shell.execute_reply": "2025-05-23T09:37:53.060357Z",
     "shell.execute_reply.started": "2025-05-23T09:37:53.054349Z"
    }
   },
   "outputs": [
    {
     "name": "stdout",
     "output_type": "stream",
     "text": [
      "tf.Tensor(\n",
      "[[0]\n",
      " [0]\n",
      " [0]\n",
      " [0]\n",
      " [0]\n",
      " [0]\n",
      " [0]\n",
      " [0]\n",
      " [0]], shape=(9, 1), dtype=int32)\n"
     ]
    }
   ],
   "source": [
    "c = tf.zeros(shape=(9, 1), dtype = 'int32')\n",
    "print(c)"
   ]
  },
  {
   "cell_type": "markdown",
   "id": "ada0d466",
   "metadata": {},
   "source": [
    "D) Reshape `c` to be of shape (1, 3, 3). Name it `d`."
   ]
  },
  {
   "cell_type": "code",
   "execution_count": 9,
   "id": "91b60140",
   "metadata": {
    "execution": {
     "iopub.execute_input": "2025-05-23T09:42:00.694893Z",
     "iopub.status.busy": "2025-05-23T09:42:00.694484Z",
     "iopub.status.idle": "2025-05-23T09:42:00.714884Z",
     "shell.execute_reply": "2025-05-23T09:42:00.712956Z",
     "shell.execute_reply.started": "2025-05-23T09:42:00.694869Z"
    }
   },
   "outputs": [
    {
     "name": "stdout",
     "output_type": "stream",
     "text": [
      "(1, 3, 3)\n",
      "tf.Tensor(\n",
      "[[[0 0 0]\n",
      "  [0 0 0]\n",
      "  [0 0 0]]], shape=(1, 3, 3), dtype=int32)\n"
     ]
    }
   ],
   "source": [
    "d = tf.reshape(c, shape=(1,3,3))  # Adds a new dimension at the front\n",
    "\n",
    "print(d.shape)  # Should print: (1, 3, 3)\n",
    "print(d)"
   ]
  },
  {
   "cell_type": "markdown",
   "id": "a172b512",
   "metadata": {},
   "source": [
    "E) Use `tf.matmul` to matrix multiply `b` and `d` with each other and now assign the tensor to `e`. "
   ]
  },
  {
   "cell_type": "code",
   "execution_count": 12,
   "id": "fd3ab946-12a6-4b92-8b6b-e223c0afa69f",
   "metadata": {
    "execution": {
     "iopub.execute_input": "2025-05-23T09:43:48.198230Z",
     "iopub.status.busy": "2025-05-23T09:43:48.197206Z",
     "iopub.status.idle": "2025-05-23T09:43:48.207014Z",
     "shell.execute_reply": "2025-05-23T09:43:48.205310Z",
     "shell.execute_reply.started": "2025-05-23T09:43:48.198182Z"
    }
   },
   "outputs": [
    {
     "name": "stdout",
     "output_type": "stream",
     "text": [
      "tf.Tensor(\n",
      "[[[0. 0. 0.]\n",
      "  [0. 0. 0.]\n",
      "  [0. 0. 0.]]], shape=(1, 3, 3), dtype=float32)\n"
     ]
    }
   ],
   "source": [
    "\n",
    "\n",
    "e = tf.matmul(b, d)  # shape (1, 3, 3)\n",
    "print(e)\n"
   ]
  },
  {
   "cell_type": "markdown",
   "id": "0b938d5a",
   "metadata": {},
   "source": [
    "F) Below is a `numpy` array. Convert it to a tensor named `array_tensor`. Then use `tf.cast` to ensure it is of dtype `float` not `int`. Assign the result to `f`."
   ]
  },
  {
   "cell_type": "code",
   "execution_count": 24,
   "id": "266042f2",
   "metadata": {
    "execution": {
     "iopub.execute_input": "2025-05-23T09:48:41.837402Z",
     "iopub.status.busy": "2025-05-23T09:48:41.836882Z",
     "iopub.status.idle": "2025-05-23T09:48:41.841434Z",
     "shell.execute_reply": "2025-05-23T09:48:41.840510Z",
     "shell.execute_reply.started": "2025-05-23T09:48:41.837379Z"
    }
   },
   "outputs": [],
   "source": [
    "import numpy as np"
   ]
  },
  {
   "cell_type": "code",
   "execution_count": 25,
   "id": "8de7ee08",
   "metadata": {
    "execution": {
     "iopub.execute_input": "2025-05-23T09:48:42.163787Z",
     "iopub.status.busy": "2025-05-23T09:48:42.163415Z",
     "iopub.status.idle": "2025-05-23T09:48:42.168715Z",
     "shell.execute_reply": "2025-05-23T09:48:42.167596Z",
     "shell.execute_reply.started": "2025-05-23T09:48:42.163767Z"
    }
   },
   "outputs": [],
   "source": [
    "array = np.array([[\n",
    "    [1,2,3],\n",
    "    [1,2,3],\n",
    "    [4,5,6],\n",
    "    [7,8,9]\n",
    "]])"
   ]
  },
  {
   "cell_type": "code",
   "execution_count": 31,
   "id": "2c284f18",
   "metadata": {
    "execution": {
     "iopub.execute_input": "2025-05-23T09:50:28.674709Z",
     "iopub.status.busy": "2025-05-23T09:50:28.674213Z",
     "iopub.status.idle": "2025-05-23T09:50:28.682423Z",
     "shell.execute_reply": "2025-05-23T09:50:28.681492Z",
     "shell.execute_reply.started": "2025-05-23T09:50:28.674677Z"
    }
   },
   "outputs": [
    {
     "data": {
      "text/plain": [
       "<tf.Tensor: shape=(1, 4, 3), dtype=float32, numpy=\n",
       "array([[[1., 2., 3.],\n",
       "        [1., 2., 3.],\n",
       "        [4., 5., 6.],\n",
       "        [7., 8., 9.]]], dtype=float32)>"
      ]
     },
     "execution_count": 31,
     "metadata": {},
     "output_type": "execute_result"
    }
   ],
   "source": [
    "array_tensor = tf.convert_to_tensor(array)\n",
    "f = tf.cast(array_tensor, dtype = tf.float32)\n",
    "f"
   ]
  },
  {
   "cell_type": "markdown",
   "id": "ea793238",
   "metadata": {},
   "source": [
    "G) Select the values in the __last column__ of `f` and save this to `g`. To be clear, `g` should have shape (4,) and contain the values `3,3,6,9`. "
   ]
  },
  {
   "cell_type": "code",
   "execution_count": 39,
   "id": "c9f07acb",
   "metadata": {
    "execution": {
     "iopub.execute_input": "2025-05-23T09:56:00.289590Z",
     "iopub.status.busy": "2025-05-23T09:56:00.288566Z",
     "iopub.status.idle": "2025-05-23T09:56:00.297918Z",
     "shell.execute_reply": "2025-05-23T09:56:00.296906Z",
     "shell.execute_reply.started": "2025-05-23T09:56:00.289551Z"
    }
   },
   "outputs": [
    {
     "data": {
      "text/plain": [
       "<tf.Tensor: shape=(4,), dtype=float32, numpy=array([3., 3., 6., 9.], dtype=float32)>"
      ]
     },
     "execution_count": 39,
     "metadata": {},
     "output_type": "execute_result"
    }
   ],
   "source": [
    "g = f[0,:,2]\n",
    "g\n"
   ]
  },
  {
   "cell_type": "markdown",
   "id": "45bcb85e",
   "metadata": {},
   "source": [
    "H) Expand the dimensions of g so that it's of shape (4,1). Assign this to `h`."
   ]
  },
  {
   "cell_type": "code",
   "execution_count": 41,
   "id": "912bedd2",
   "metadata": {
    "execution": {
     "iopub.execute_input": "2025-05-23T09:59:14.811404Z",
     "iopub.status.busy": "2025-05-23T09:59:14.810709Z",
     "iopub.status.idle": "2025-05-23T09:59:14.819430Z",
     "shell.execute_reply": "2025-05-23T09:59:14.818218Z",
     "shell.execute_reply.started": "2025-05-23T09:59:14.811382Z"
    }
   },
   "outputs": [
    {
     "data": {
      "text/plain": [
       "<tf.Tensor: shape=(4, 1), dtype=float32, numpy=\n",
       "array([[3.],\n",
       "       [3.],\n",
       "       [6.],\n",
       "       [9.]], dtype=float32)>"
      ]
     },
     "execution_count": 41,
     "metadata": {},
     "output_type": "execute_result"
    }
   ],
   "source": [
    "h = tf.expand_dims(g, axis=1)\n",
    "h"
   ]
  },
  {
   "cell_type": "markdown",
   "id": "23a9f6e7",
   "metadata": {},
   "source": [
    "I) Multiply e with f, using `tf.matmul` with the optional `transpose_b` argument (`e` must come first in your positional arguments, then `f`). Assign this to `i`."
   ]
  },
  {
   "cell_type": "code",
   "execution_count": 43,
   "id": "d0786d25",
   "metadata": {
    "execution": {
     "iopub.execute_input": "2025-05-23T10:02:35.470387Z",
     "iopub.status.busy": "2025-05-23T10:02:35.469540Z",
     "iopub.status.idle": "2025-05-23T10:02:35.478994Z",
     "shell.execute_reply": "2025-05-23T10:02:35.477469Z",
     "shell.execute_reply.started": "2025-05-23T10:02:35.470362Z"
    }
   },
   "outputs": [
    {
     "name": "stdout",
     "output_type": "stream",
     "text": [
      "(1, 3, 4)\n",
      "tf.Tensor(\n",
      "[[[0. 0. 0. 0.]\n",
      "  [0. 0. 0. 0.]\n",
      "  [0. 0. 0. 0.]]], shape=(1, 3, 4), dtype=float32)\n"
     ]
    }
   ],
   "source": [
    "i = tf.matmul(e, f, transpose_b=True)\n",
    "print(i.shape)  # Expected: (1, 3, 4)\n",
    "print(i)"
   ]
  },
  {
   "cell_type": "markdown",
   "id": "93294f0c",
   "metadata": {},
   "source": [
    "J) Create a `(10,10)` tensor filled with ones. Then use `tf.linalg.band_part()` to mask out the upper triangle of the matrix (i.e. the upper triangle should all be 0s). Assign to `j`."
   ]
  },
  {
   "cell_type": "code",
   "execution_count": 47,
   "id": "78011101",
   "metadata": {
    "execution": {
     "iopub.execute_input": "2025-05-23T10:07:56.630655Z",
     "iopub.status.busy": "2025-05-23T10:07:56.630260Z",
     "iopub.status.idle": "2025-05-23T10:07:56.641229Z",
     "shell.execute_reply": "2025-05-23T10:07:56.639657Z",
     "shell.execute_reply.started": "2025-05-23T10:07:56.630630Z"
    }
   },
   "outputs": [
    {
     "name": "stdout",
     "output_type": "stream",
     "text": [
      "tf.Tensor(\n",
      "[[1. 0. 0. 0. 0. 0. 0. 0. 0. 0.]\n",
      " [1. 1. 0. 0. 0. 0. 0. 0. 0. 0.]\n",
      " [1. 1. 1. 0. 0. 0. 0. 0. 0. 0.]\n",
      " [1. 1. 1. 1. 0. 0. 0. 0. 0. 0.]\n",
      " [1. 1. 1. 1. 1. 0. 0. 0. 0. 0.]\n",
      " [1. 1. 1. 1. 1. 1. 0. 0. 0. 0.]\n",
      " [1. 1. 1. 1. 1. 1. 1. 0. 0. 0.]\n",
      " [1. 1. 1. 1. 1. 1. 1. 1. 0. 0.]\n",
      " [1. 1. 1. 1. 1. 1. 1. 1. 1. 0.]\n",
      " [1. 1. 1. 1. 1. 1. 1. 1. 1. 1.]], shape=(10, 10), dtype=float32)\n"
     ]
    }
   ],
   "source": [
    "# Create a 10x10 tensor of ones\n",
    "ones_matrix = tf.ones((10, 10))\n",
    "\n",
    "# Mask out the upper triangle by keeping only the lower triangle and diagonal\n",
    "# tf.linalg.band_part(input, num_lower, num_upper)\n",
    "# Setting num_upper=0 keeps zeroes above the diagonal\n",
    "j = tf.linalg.band_part(ones_matrix, num_lower=-1, num_upper=0)\n",
    "\n",
    "print(j)\n"
   ]
  },
  {
   "cell_type": "markdown",
   "id": "87bef51c",
   "metadata": {},
   "source": [
    "K) Take the `number_list` below and make it a tensor. Assign it to `k`."
   ]
  },
  {
   "cell_type": "code",
   "execution_count": 49,
   "id": "9cae6c8e",
   "metadata": {
    "execution": {
     "iopub.execute_input": "2025-05-23T10:09:19.129942Z",
     "iopub.status.busy": "2025-05-23T10:09:19.129476Z",
     "iopub.status.idle": "2025-05-23T10:09:19.137813Z",
     "shell.execute_reply": "2025-05-23T10:09:19.136894Z",
     "shell.execute_reply.started": "2025-05-23T10:09:19.129905Z"
    }
   },
   "outputs": [
    {
     "name": "stdout",
     "output_type": "stream",
     "text": [
      "tf.Tensor([1 2 3 4 8], shape=(5,), dtype=int32)\n",
      "(5,)\n"
     ]
    }
   ],
   "source": [
    "number_list = [1, 2, 3, 4, 8]\n",
    "k = tf.convert_to_tensor(number_list)\n",
    "\n",
    "print(k)\n",
    "print(k.shape)  # Should be (5,)\n"
   ]
  },
  {
   "cell_type": "markdown",
   "id": "57e0c1c9",
   "metadata": {},
   "source": [
    "L) Use `tf.expand_dims` to make `k` into a tensor of shape (1,5). Assign to `l`."
   ]
  },
  {
   "cell_type": "code",
   "execution_count": 51,
   "id": "801653c8",
   "metadata": {
    "execution": {
     "iopub.execute_input": "2025-05-23T10:10:34.340583Z",
     "iopub.status.busy": "2025-05-23T10:10:34.339788Z",
     "iopub.status.idle": "2025-05-23T10:10:34.346953Z",
     "shell.execute_reply": "2025-05-23T10:10:34.345993Z",
     "shell.execute_reply.started": "2025-05-23T10:10:34.340557Z"
    }
   },
   "outputs": [
    {
     "data": {
      "text/plain": [
       "<tf.Tensor: shape=(1, 5), dtype=int32, numpy=array([[1, 2, 3, 4, 8]], dtype=int32)>"
      ]
     },
     "execution_count": 51,
     "metadata": {},
     "output_type": "execute_result"
    }
   ],
   "source": [
    "l = tf.expand_dims(k,axis=0)\n",
    "l"
   ]
  },
  {
   "cell_type": "markdown",
   "id": "41741707",
   "metadata": {},
   "source": [
    "M) Use `tf.tile` to repeat `l` (read as \"L\") 50 times, with an eventual shape of `(50, 5)`. Assign to `m`."
   ]
  },
  {
   "cell_type": "code",
   "execution_count": 53,
   "id": "eea3f9f4",
   "metadata": {
    "execution": {
     "iopub.execute_input": "2025-05-23T10:12:45.996489Z",
     "iopub.status.busy": "2025-05-23T10:12:45.996024Z",
     "iopub.status.idle": "2025-05-23T10:12:46.001857Z",
     "shell.execute_reply": "2025-05-23T10:12:46.001021Z",
     "shell.execute_reply.started": "2025-05-23T10:12:45.996469Z"
    }
   },
   "outputs": [
    {
     "name": "stdout",
     "output_type": "stream",
     "text": [
      "(50, 5)\n"
     ]
    }
   ],
   "source": [
    "# Tile l 50 times along axis 0 (rows)\n",
    "m = tf.tile(l, multiples=[50, 1])  # shape (50, 5)\n",
    "\n",
    "print(m.shape)  # (50, 5)\n",
    "\n"
   ]
  },
  {
   "cell_type": "markdown",
   "id": "9357df0a",
   "metadata": {},
   "source": [
    "N) Use a simple Boolean statement to create a tensor containing `True` values for where `m` is 3  and `False` for where it is not 3. Assign to `n`"
   ]
  },
  {
   "cell_type": "code",
   "execution_count": 55,
   "id": "c4137b29",
   "metadata": {
    "execution": {
     "iopub.execute_input": "2025-05-23T10:17:31.741387Z",
     "iopub.status.busy": "2025-05-23T10:17:31.741099Z",
     "iopub.status.idle": "2025-05-23T10:17:31.746402Z",
     "shell.execute_reply": "2025-05-23T10:17:31.745483Z",
     "shell.execute_reply.started": "2025-05-23T10:17:31.741367Z"
    }
   },
   "outputs": [],
   "source": [
    "n = tf.equal(m, 3)\n"
   ]
  },
  {
   "cell_type": "markdown",
   "id": "f220f12b",
   "metadata": {},
   "source": [
    "O) Divide every value in you variable `m` by 3. Assign to `o`."
   ]
  },
  {
   "cell_type": "code",
   "execution_count": 58,
   "id": "c19379c8",
   "metadata": {
    "execution": {
     "iopub.execute_input": "2025-05-23T10:19:47.120338Z",
     "iopub.status.busy": "2025-05-23T10:19:47.119580Z",
     "iopub.status.idle": "2025-05-23T10:19:47.127525Z",
     "shell.execute_reply": "2025-05-23T10:19:47.125983Z",
     "shell.execute_reply.started": "2025-05-23T10:19:47.120300Z"
    }
   },
   "outputs": [],
   "source": [
    "o = m / 3\n",
    "\n"
   ]
  },
  {
   "cell_type": "markdown",
   "id": "96595bd0",
   "metadata": {},
   "source": [
    "P) Use `tf.concat()` to take the list of two tensors below of shape (5,5) and (5,5) each and turn them into a final tensor of shape (10,5). Assign to `p`. Think carefully about the concation axis."
   ]
  },
  {
   "cell_type": "code",
   "execution_count": 60,
   "id": "d0cc546b",
   "metadata": {
    "execution": {
     "iopub.execute_input": "2025-05-23T10:20:34.469446Z",
     "iopub.status.busy": "2025-05-23T10:20:34.468435Z",
     "iopub.status.idle": "2025-05-23T10:20:34.477897Z",
     "shell.execute_reply": "2025-05-23T10:20:34.476882Z",
     "shell.execute_reply.started": "2025-05-23T10:20:34.469424Z"
    }
   },
   "outputs": [
    {
     "data": {
      "text/plain": [
       "[<tf.Tensor: shape=(5, 5), dtype=float32, numpy=\n",
       " array([[1., 1., 1., 1., 1.],\n",
       "        [1., 1., 1., 1., 1.],\n",
       "        [1., 1., 1., 1., 1.],\n",
       "        [1., 1., 1., 1., 1.],\n",
       "        [1., 1., 1., 1., 1.]], dtype=float32)>,\n",
       " <tf.Tensor: shape=(5, 5), dtype=float32, numpy=\n",
       " array([[1., 1., 1., 1., 1.],\n",
       "        [1., 1., 1., 1., 1.],\n",
       "        [1., 1., 1., 1., 1.],\n",
       "        [1., 1., 1., 1., 1.],\n",
       "        [1., 1., 1., 1., 1.]], dtype=float32)>]"
      ]
     },
     "execution_count": 60,
     "metadata": {},
     "output_type": "execute_result"
    }
   ],
   "source": [
    "tensor_list = [tf.ones((5,5)), tf.ones((5,5))]\n",
    "tensor_list"
   ]
  },
  {
   "cell_type": "code",
   "execution_count": 61,
   "id": "6145fb3f-c9f5-438b-88bf-bab80c506b7e",
   "metadata": {
    "execution": {
     "iopub.execute_input": "2025-05-23T10:22:45.617576Z",
     "iopub.status.busy": "2025-05-23T10:22:45.616954Z",
     "iopub.status.idle": "2025-05-23T10:22:45.630085Z",
     "shell.execute_reply": "2025-05-23T10:22:45.628569Z",
     "shell.execute_reply.started": "2025-05-23T10:22:45.617538Z"
    }
   },
   "outputs": [
    {
     "name": "stdout",
     "output_type": "stream",
     "text": [
      "(10, 5)\n",
      "tf.Tensor(\n",
      "[[1. 1. 1. 1. 1.]\n",
      " [1. 1. 1. 1. 1.]\n",
      " [1. 1. 1. 1. 1.]\n",
      " [1. 1. 1. 1. 1.]\n",
      " [1. 1. 1. 1. 1.]\n",
      " [1. 1. 1. 1. 1.]\n",
      " [1. 1. 1. 1. 1.]\n",
      " [1. 1. 1. 1. 1.]\n",
      " [1. 1. 1. 1. 1.]\n",
      " [1. 1. 1. 1. 1.]], shape=(10, 5), dtype=float32)\n"
     ]
    }
   ],
   "source": [
    "\n",
    "p = tf.concat(tensor_list, axis=0)  # Concatenate along rows\n",
    "\n",
    "print(p.shape)  # Should print (10, 5)\n",
    "print(p)\n"
   ]
  },
  {
   "cell_type": "markdown",
   "id": "dc6023e6",
   "metadata": {},
   "source": [
    "### Check your answers"
   ]
  },
  {
   "cell_type": "code",
   "execution_count": 62,
   "id": "bbf0c962",
   "metadata": {
    "execution": {
     "iopub.execute_input": "2025-05-23T10:22:55.012572Z",
     "iopub.status.busy": "2025-05-23T10:22:55.011341Z",
     "iopub.status.idle": "2025-05-23T10:23:06.548763Z",
     "shell.execute_reply": "2025-05-23T10:23:06.547673Z",
     "shell.execute_reply.started": "2025-05-23T10:22:55.012522Z"
    }
   },
   "outputs": [
    {
     "name": "stdout",
     "output_type": "stream",
     "text": [
      "\n",
      "\u001b[1m============================= test session starts ==============================\u001b[0m\n",
      "platform linux -- Python 3.12.9, pytest-8.3.4, pluggy-1.5.0 -- /home/saranjthilak92/.pyenv/versions/3.12.9/envs/lewagon/bin/python\n",
      "cachedir: .pytest_cache\n",
      "Fugue tests will be initialized with options:\n",
      "rootdir: /home/saranjthilak92/code/saranjthilak/06-Deep-Learning/05-Transformers/data-tensor-trials/tests\n",
      "plugins: fugue-0.9.1, typeguard-4.4.2, anyio-4.8.0\n",
      "\u001b[1mcollecting ... \u001b[0mcollected 15 items\n",
      "\n",
      "test_tensors.py::TestTensors::test_a \u001b[32mPASSED\u001b[0m\u001b[32m                              [  6%]\u001b[0m\n",
      "test_tensors.py::TestTensors::test_b \u001b[32mPASSED\u001b[0m\u001b[32m                              [ 13%]\u001b[0m\n",
      "test_tensors.py::TestTensors::test_c \u001b[32mPASSED\u001b[0m\u001b[32m                              [ 20%]\u001b[0m\n",
      "test_tensors.py::TestTensors::test_d_shape \u001b[32mPASSED\u001b[0m\u001b[32m                        [ 26%]\u001b[0m\n",
      "test_tensors.py::TestTensors::test_e \u001b[32mPASSED\u001b[0m\u001b[32m                              [ 33%]\u001b[0m\n",
      "test_tensors.py::TestTensors::test_f \u001b[32mPASSED\u001b[0m\u001b[32m                              [ 40%]\u001b[0m\n",
      "test_tensors.py::TestTensors::test_g \u001b[32mPASSED\u001b[0m\u001b[32m                              [ 46%]\u001b[0m\n",
      "test_tensors.py::TestTensors::test_i \u001b[32mPASSED\u001b[0m\u001b[32m                              [ 53%]\u001b[0m\n",
      "test_tensors.py::TestTensors::test_j \u001b[32mPASSED\u001b[0m\u001b[32m                              [ 60%]\u001b[0m\n",
      "test_tensors.py::TestTensors::test_k \u001b[32mPASSED\u001b[0m\u001b[32m                              [ 66%]\u001b[0m\n",
      "test_tensors.py::TestTensors::test_l \u001b[32mPASSED\u001b[0m\u001b[32m                              [ 73%]\u001b[0m\n",
      "test_tensors.py::TestTensors::test_m \u001b[32mPASSED\u001b[0m\u001b[32m                              [ 80%]\u001b[0m\n",
      "test_tensors.py::TestTensors::test_n \u001b[32mPASSED\u001b[0m\u001b[32m                              [ 86%]\u001b[0m\n",
      "test_tensors.py::TestTensors::test_o \u001b[32mPASSED\u001b[0m\u001b[32m                              [ 93%]\u001b[0m\n",
      "test_tensors.py::TestTensors::test_p_shape \u001b[32mPASSED\u001b[0m\u001b[32m                        [100%]\u001b[0m\n",
      "\n",
      "\u001b[32m============================== \u001b[32m\u001b[1m15 passed\u001b[0m\u001b[32m in 7.81s\u001b[0m\u001b[32m ==============================\u001b[0m\n",
      "\n",
      "\n",
      "💯 You can commit your code:\n",
      "\n",
      "\u001b[1;32mgit\u001b[39m add tests/tensors.pickle\n",
      "\n",
      "\u001b[32mgit\u001b[39m commit -m \u001b[33m'Completed tensors step'\u001b[39m\n",
      "\n",
      "\u001b[32mgit\u001b[39m push origin master\n",
      "\n"
     ]
    }
   ],
   "source": [
    "from nbresult import ChallengeResult\n",
    "\n",
    "result = ChallengeResult('tensors',\n",
    "                            a = a,\n",
    "                            b = b,\n",
    "                            c = c,\n",
    "                            d_shape = d.shape,\n",
    "                            e = e,\n",
    "                            f = f,\n",
    "                            g = g,\n",
    "                            h = h,\n",
    "                            i = i,\n",
    "                            j = j,\n",
    "                            k = k,\n",
    "                            l = l,\n",
    "                            m = m,\n",
    "                            n = n,\n",
    "                            o = o,\n",
    "                            p_shape = p.shape\n",
    ")\n",
    "\n",
    "result.write()\n",
    "print(result.check())"
   ]
  },
  {
   "cell_type": "markdown",
   "id": "f222a7e8",
   "metadata": {},
   "source": [
    "### Great work 🔥\n",
    "\n",
    "Now it's time to get stuck into some modelling!"
   ]
  }
 ],
 "metadata": {
  "kernelspec": {
   "display_name": "Python 3 (ipykernel)",
   "language": "python",
   "name": "python3"
  },
  "language_info": {
   "codemirror_mode": {
    "name": "ipython",
    "version": 3
   },
   "file_extension": ".py",
   "mimetype": "text/x-python",
   "name": "python",
   "nbconvert_exporter": "python",
   "pygments_lexer": "ipython3",
   "version": "3.12.9"
  }
 },
 "nbformat": 4,
 "nbformat_minor": 5
}
